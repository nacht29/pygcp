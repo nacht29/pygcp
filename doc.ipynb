{
 "cells": [
  {
   "cell_type": "markdown",
   "id": "c7ea9fce",
   "metadata": {},
   "source": [
    "# pygcp\n"
   ]
  },
  {
   "cell_type": "markdown",
   "id": "8dd1fcd2",
   "metadata": {},
   "source": [
    "---"
   ]
  },
  {
   "cell_type": "markdown",
   "id": "16c99d5f",
   "metadata": {},
   "source": [
    "#### **Purpose:**\n",
    "A library containing useful functions for interacting with Google Cloud Platform (GCP) and Google Workspace tools with Python.\n",
    "\n",
    "#### **Supported platforms:**\n",
    "- Google BigQuery\n",
    "- Google Cloud Storage Bucket\n",
    "- Google Drive"
   ]
  },
  {
   "cell_type": "markdown",
   "id": "e1daa865",
   "metadata": {},
   "source": [
    "---"
   ]
  },
  {
   "cell_type": "markdown",
   "id": "eff4f928",
   "metadata": {},
   "source": [
    "## Installation\n"
   ]
  },
  {
   "cell_type": "markdown",
   "id": "ce90f98b",
   "metadata": {},
   "source": [
    "### Windows WSL\n",
    "\n",
    "<small>\n",
    "\n",
    "```bash\n",
    "python3 -m pip install --index-url https://test.pypi.org/simple/ --no-deps pygcp==1.1.4 --break-system-packages\n",
    "```\n",
    "</small>\n",
    "\n",
    "### Force reinstallation\n",
    "<small>\n",
    "\n",
    "```bash\n",
    "python3 -m pip install --index-url https://test.pypi.org/simple/ --no-deps pygcp==1.1.4 --break-system- --force-reinstall\n",
    "```\n",
    "</small>"
   ]
  },
  {
   "cell_type": "markdown",
   "id": "e2d84d46",
   "metadata": {},
   "source": [
    "---"
   ]
  },
  {
   "cell_type": "markdown",
   "id": "0a9107ed",
   "metadata": {},
   "source": [
    "### macOS/Linux\n",
    "\n",
    "<small>\n",
    "\n",
    "```bash\n",
    "python3 -m pip install --index-url https://test.pypi.org/simple/ --no-deps pygcp==1.1.4\n",
    "```\n",
    "</small>\n",
    "\n",
    "<small>\n",
    "\n",
    "### Force reinstallation\n",
    "\n",
    "```bash\n",
    "python3 -m pip install --index-url https://test.pypi.org/simple/ --no-deps pygcp==1.1.4 --force-reinstall\n",
    "```\n",
    "</small>\n"
   ]
  },
  {
   "cell_type": "markdown",
   "id": "385c4f10",
   "metadata": {},
   "source": [
    "---"
   ]
  },
  {
   "cell_type": "markdown",
   "id": "c01099ed",
   "metadata": {},
   "source": [
    "## ```pygcp.bigquery```"
   ]
  },
  {
   "cell_type": "markdown",
   "id": "22311446",
   "metadata": {},
   "source": [
    "### **bq_to_df**"
   ]
  },
  {
   "cell_type": "code",
   "execution_count": null,
   "id": "94521685",
   "metadata": {},
   "outputs": [],
   "source": [
    "def bq_to_df(bq_client, sql_script:str, log=False, ignore_error=False): ..."
   ]
  },
  {
   "cell_type": "markdown",
   "id": "8a09f0d7",
   "metadata": {},
   "source": [
    "#### Usage:\n",
    "- Read SQL script and query data from BigQuery\n",
    "- Store the query results in a pandas dataframe\n",
    "\n",
    "#### Parameters:\n",
    "\n",
    "- ```bq_client```: client object for BigQuery\n",
    "- ```sql_script```: the path to the SQL script to be executed\n",
    "- ```replace_in_query```: a list of tuples, in the form of (look for a, replace with b) to replace certain components in the query\n",
    "- ```log```:\n",
    "\t- ```True```: enable logging\n",
    "\t- ```False```: disable logging\n",
    "- ```ignore_error```:\n",
    "\t- ```True```: returns empty list and proceed when error occurs\n",
    "\t- ```False```: stops execution and raises exception\n",
    "\n",
    "#### Return value:\n",
    "- type: pandas dataframe\n",
    "- returns an empty dataframe if error occurs and user chooses to ignore error"
   ]
  }
 ],
 "metadata": {
  "language_info": {
   "name": "python"
  }
 },
 "nbformat": 4,
 "nbformat_minor": 5
}
